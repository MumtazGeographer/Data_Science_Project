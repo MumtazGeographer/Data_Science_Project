{
 "cells": [
  {
   "cell_type": "markdown",
   "id": "68964ccc-95bd-4f59-b0a6-893bf7403e96",
   "metadata": {},
   "source": [
    "# Chapter 8: Data Wrangling: Jion Combine and Rehape\n"
   ]
  },
  {
   "cell_type": "markdown",
   "id": "9207c55c-3291-4a25-a6a6-9925b050e909",
   "metadata": {},
   "source": [
    " In many applications, data may be spread across a number of files or databases, or be\n",
    " arranged in a form that is not convenient to analyze. This chapter focuses on tools to\n",
    " help combine, join, and rearrange data.\n",
    " First, I introduce the concept of hierarchical indexing in pandas, which is used exten\n",
    "sively in some of these operations. I then dig into the particular data manipulations"
   ]
  },
  {
   "cell_type": "markdown",
   "id": "c93df3ae-0051-4c88-a218-820414af0321",
   "metadata": {},
   "source": [
    "### Heirarical Indexing\n",
    "Hierarchical indexing is an important feature of pandas that enables you to have\n",
    " multiple (two or more) index levels on an axis. Another way of thinking about it\n",
    " is that it provides a way for you to work with higher dimensional data in a lower\n",
    " dimensional form. Let’s start with a simple example: create a Series with a list of lists\n",
    " (or arrays) as the index:"
   ]
  },
  {
   "cell_type": "code",
   "execution_count": 7,
   "id": "4efe4cb1-59a9-41a4-8126-1993fc02f042",
   "metadata": {},
   "outputs": [],
   "source": [
    "# import libraries\n",
    "import pandas as pd\n",
    "import numpy as np"
   ]
  },
  {
   "cell_type": "code",
   "execution_count": 15,
   "id": "c2fb7c40-2cba-42d0-9a5b-0bca93a9dd44",
   "metadata": {},
   "outputs": [
    {
     "data": {
      "text/plain": [
       "a  1    0.130009\n",
       "   2    0.048918\n",
       "   3    0.030889\n",
       "b  1    0.526210\n",
       "   3    0.573620\n",
       "c  1    0.724506\n",
       "   2    0.650199\n",
       "d  2    0.919968\n",
       "   3    0.713049\n",
       "dtype: float64"
      ]
     },
     "execution_count": 15,
     "metadata": {},
     "output_type": "execute_result"
    }
   ],
   "source": [
    "data = pd.Series(np.random.uniform(size=9), index=[['a','a','a','b','b','c','c','d','d'],[1,2,3,1,3,1,2,2,3]])\n",
    "data"
   ]
  },
  {
   "cell_type": "code",
   "execution_count": null,
   "id": "d5152fed-ae96-4462-8dd3-63fbf8d5de6c",
   "metadata": {},
   "outputs": [],
   "source": []
  },
  {
   "cell_type": "code",
   "execution_count": null,
   "id": "13745533-0e8f-4118-9928-c969b96ab58a",
   "metadata": {},
   "outputs": [],
   "source": []
  }
 ],
 "metadata": {
  "kernelspec": {
   "display_name": "Python 3 (ipykernel)",
   "language": "python",
   "name": "python3"
  },
  "language_info": {
   "codemirror_mode": {
    "name": "ipython",
    "version": 3
   },
   "file_extension": ".py",
   "mimetype": "text/x-python",
   "name": "python",
   "nbconvert_exporter": "python",
   "pygments_lexer": "ipython3",
   "version": "3.12.7"
  }
 },
 "nbformat": 4,
 "nbformat_minor": 5
}
